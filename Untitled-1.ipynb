{
 "cells": [
  {
   "cell_type": "code",
   "execution_count": 1,
   "id": "814f2c1d",
   "metadata": {},
   "outputs": [
    {
     "name": "stdout",
     "output_type": "stream",
     "text": [
      "Square of 0 = 0\n",
      "Cube of 0 = 0\n",
      "Cube of 1 = 1\n",
      "Square of 1 = 1\n",
      "Cube of 2 = 8\n",
      "Square of 2 = 4\n",
      "Cube of 3 = 27\n",
      "Square of 3 = 9\n",
      "Cube of 4 = 64\n",
      "Square of 4 = 16\n"
     ]
    }
   ],
   "source": [
    "import threading\n",
    "import time\n",
    "\n",
    "def calculate_square():\n",
    "    for i in range(5):\n",
    "        print(f\"Square of {i} = {i*i}\")\n",
    "        time.sleep(1)\n",
    "\n",
    "def calculate_cube():\n",
    "    for i in range(5):\n",
    "        print(f\"Cube of {i} = {i*i*i}\")\n",
    "        time.sleep(1)\n",
    "\n",
    "t1 = threading.Thread(target=calculate_square)\n",
    "t2 = threading.Thread(target=calculate_cube)\n",
    "\n",
    "t1.start()\n",
    "t2.start()\n",
    "\n",
    "t1.join()\n",
    "t2.join()"
   ]
  }
 ],
 "metadata": {
  "kernelspec": {
   "display_name": "Python 3",
   "language": "python",
   "name": "python3"
  },
  "language_info": {
   "codemirror_mode": {
    "name": "ipython",
    "version": 3
   },
   "file_extension": ".py",
   "mimetype": "text/x-python",
   "name": "python",
   "nbconvert_exporter": "python",
   "pygments_lexer": "ipython3",
   "version": "3.13.7"
  }
 },
 "nbformat": 4,
 "nbformat_minor": 5
}
